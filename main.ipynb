{
 "cells": [
  {
   "cell_type": "markdown",
   "metadata": {},
   "source": [
    "Loading all the libraries"
   ]
  },
  {
   "cell_type": "code",
   "execution_count": 1,
   "metadata": {},
   "outputs": [],
   "source": [
    "import numpy as np\n",
    "import pandas as pd\n",
    "import scipy.stats as sps\n",
    "import scipy as sp\n",
    "import matplotlib.pyplot as plt"
   ]
  },
  {
   "cell_type": "markdown",
   "metadata": {},
   "source": [
    "3.a)"
   ]
  },
  {
   "cell_type": "markdown",
   "metadata": {},
   "source": [
    "Defining the Black-Scholes functions as well as the trilattice models"
   ]
  },
  {
   "cell_type": "code",
   "execution_count": 3,
   "metadata": {},
   "outputs": [],
   "source": [
    "def BScallPrice(sigma,K,tau,S,r):\n",
    "    d1 = (np.log(S/K)+(r+(1/2)*sigma**2)*tau)/(sigma*np.sqrt(tau));\n",
    "    d2 = d1-sigma*np.sqrt(tau);\n",
    "    c = S*sps.norm.cdf(d1)-K*np.exp(-r*tau)*sps.norm.cdf(d2);\n",
    "    return c\n",
    "\n",
    "def BSputPrice(sigma,K,tau,S,r):    \n",
    "    d1 = (np.log(S/K)+(r+(1/2)*sigma**2)*tau)/(sigma*np.sqrt(tau));\n",
    "    d2 = d1-sigma*np.sqrt(tau);\n",
    "    c = S*sps.norm.cdf(d1)-K*np.exp(-r*tau)*sps.norm.cdf(d2);\n",
    "    p = c+K*np.exp(-r*tau)-S;\n",
    "    return p"
   ]
  },
  {
   "cell_type": "code",
   "execution_count": 4,
   "metadata": {},
   "outputs": [],
   "source": [
    "def TrinomialEuCall(S0,K,r,sigma,T,N): \n",
    "    deltaT = T/N\n",
    "    deltaX=sigma*deltaT**0.5;#rule of thumb\n",
    "    nu = r-(1/2)*sigma**2;\n",
    "    discount = np.exp(-r*deltaT);\n",
    "    p_u = (1/2)*((sigma**2*deltaT+nu**2*deltaT**2)/deltaX**2+nu*deltaT/deltaX);\n",
    "    p_m = (1-(sigma**2*deltaT+nu**2*deltaT**2)/deltaX**2);\n",
    "    p_d = (1/2)*((sigma**2*deltaT+nu**2*deltaT**2)/deltaX**2-nu*deltaT/deltaX);\n",
    "    pm=1-p_u-p_d\n",
    "    # set up S values (at maturity)\n",
    "    Svals = np.zeros((2*N+1,1));\n",
    "    Svals[0] = S0*np.exp(N*deltaX);\n",
    "    exp_dX = np.exp(-deltaX); \n",
    "    for j in range(1,2*N+1):\n",
    "        Svals[j] = exp_dX*Svals[j-1];     \n",
    "    #set up lattice and terminal values \n",
    "    Cvals = np.zeros((2*N+1,N+1))\n",
    "      \n",
    "    for j in range(0,2*N+1):\n",
    "        Cvals[j,N] = max(Svals[j]-K,0);\n",
    "\n",
    "    for j in range(N-1,-1,-1):\n",
    "        for i in range(N-j,N+j+1):\n",
    "            Cvals[i,j] =discount*(p_u*Cvals[i-1,j+1]+p_m*Cvals[i,j+1]+p_d*Cvals[i+1,j+1]);\n",
    "\n",
    "    price = Cvals[N,0];\n",
    "    return price;\n",
    "\n",
    "\n",
    "def TrinomialEuPut(S0,K,r,sigma,T,N): \n",
    "    deltaT = T/N\n",
    "    deltaX=sigma*deltaT**0.5;#rule of thumb\n",
    "    nu = r-(1/2)*sigma**2;\n",
    "    discount = np.exp(-r*deltaT);\n",
    "    p_u = (1/2)*((sigma**2*deltaT+nu**2*deltaT**2)/deltaX**2+nu*deltaT/deltaX);\n",
    "    p_m = (1-(sigma**2*deltaT+nu**2*deltaT**2)/deltaX**2);\n",
    "    p_d = (1/2)*((sigma**2*deltaT+nu**2*deltaT**2)/deltaX**2-nu*deltaT/deltaX);\n",
    "    pm=1-p_u-p_d\n",
    "    # set up S values (at maturity)\n",
    "    Svals = np.zeros((2*N+1,1));\n",
    "    Svals[0] = S0*np.exp(N*deltaX);\n",
    "    exp_dX = np.exp(-deltaX); \n",
    "    for j in range(1,2*N+1):\n",
    "        Svals[j] = exp_dX*Svals[j-1];     \n",
    "    #set up lattice and terminal values \n",
    "    Pvals = np.zeros((2*N+1,N+1))\n",
    "      \n",
    "    for j in range(0,2*N+1):\n",
    "        Pvals[j,N] = max(K-Svals[j],0);\n",
    "\n",
    "    for j in range(N-1,-1,-1):\n",
    "        for i in range(N-j,N+j+1):\n",
    "            Pvals[i,j] = discount*(p_u*Pvals[i-1,j+1]+p_m*Pvals[i,j+1]+p_d*Pvals[i+1,j+1]);\n",
    "    price = Pvals[N,0];\n",
    "    return price;\n"
   ]
  },
  {
   "cell_type": "markdown",
   "metadata": {},
   "source": [
    "PUT Option"
   ]
  },
  {
   "cell_type": "markdown",
   "metadata": {},
   "source": [
    "One month"
   ]
  },
  {
   "cell_type": "code",
   "execution_count": 55,
   "metadata": {},
   "outputs": [
    {
     "data": {
      "text/plain": [
       "3.613697521551933"
      ]
     },
     "execution_count": 55,
     "metadata": {},
     "output_type": "execute_result"
    }
   ],
   "source": [
    "S0 = 15\n",
    "sigma = 0.30\n",
    "K = 19\n",
    "T = 9/12\n",
    "N = 9\n",
    "r = 0.07\n",
    "\n",
    "TrinomialEuPut(S0,K,r,sigma,T,N)"
   ]
  },
  {
   "cell_type": "markdown",
   "metadata": {},
   "source": [
    "One day"
   ]
  },
  {
   "cell_type": "code",
   "execution_count": 56,
   "metadata": {},
   "outputs": [
    {
     "data": {
      "text/plain": [
       "3.6285113668654803"
      ]
     },
     "execution_count": 56,
     "metadata": {},
     "output_type": "execute_result"
    }
   ],
   "source": [
    "N = 9*30\n",
    "TrinomialEuPut(S0,K,r,sigma,T,N)"
   ]
  },
  {
   "cell_type": "code",
   "execution_count": 57,
   "metadata": {},
   "outputs": [
    {
     "data": {
      "text/plain": [
       "3.627787572028005"
      ]
     },
     "execution_count": 57,
     "metadata": {},
     "output_type": "execute_result"
    }
   ],
   "source": [
    "BSputPrice(sigma,K,T,S0,r)"
   ]
  },
  {
   "cell_type": "markdown",
   "metadata": {},
   "source": [
    "We can see that as expected as N increases the Trilattice price converges to the Black Scholes correct price, under the Geometric Brownian motion dynamics"
   ]
  },
  {
   "cell_type": "markdown",
   "metadata": {},
   "source": [
    "CALL Option"
   ]
  },
  {
   "cell_type": "markdown",
   "metadata": {},
   "source": [
    "One month"
   ]
  },
  {
   "cell_type": "code",
   "execution_count": 8,
   "metadata": {},
   "outputs": [
    {
     "data": {
      "text/plain": [
       "0.5841332520395797"
      ]
     },
     "execution_count": 8,
     "metadata": {},
     "output_type": "execute_result"
    }
   ],
   "source": [
    "S0 = 15\n",
    "sigma = 0.30\n",
    "K = 19\n",
    "T = 9/12\n",
    "N = 9\n",
    "r = 0.07\n",
    "\n",
    "TrinomialEuCall(S0,K,r,sigma,T,N)"
   ]
  },
  {
   "cell_type": "markdown",
   "metadata": {},
   "source": [
    "One day"
   ]
  },
  {
   "cell_type": "code",
   "execution_count": 9,
   "metadata": {},
   "outputs": [
    {
     "data": {
      "text/plain": [
       "0.5994403728561892"
      ]
     },
     "execution_count": 9,
     "metadata": {},
     "output_type": "execute_result"
    }
   ],
   "source": [
    "N = 252\n",
    "TrinomialEuCall(S0,K,r,sigma,T,N)"
   ]
  },
  {
   "cell_type": "code",
   "execution_count": 10,
   "metadata": {},
   "outputs": [
    {
     "data": {
      "text/plain": [
       "0.5995554719677814"
      ]
     },
     "execution_count": 10,
     "metadata": {},
     "output_type": "execute_result"
    }
   ],
   "source": [
    "BScallPrice(sigma,K,T,S0,r)"
   ]
  },
  {
   "cell_type": "markdown",
   "metadata": {},
   "source": [
    "3.b)"
   ]
  },
  {
   "cell_type": "markdown",
   "metadata": {},
   "source": [
    "From now on we set N = 9, meaning montlhy frequency"
   ]
  },
  {
   "cell_type": "code",
   "execution_count": 58,
   "metadata": {},
   "outputs": [],
   "source": [
    "N = 9"
   ]
  },
  {
   "cell_type": "markdown",
   "metadata": {},
   "source": [
    "3.b)"
   ]
  },
  {
   "cell_type": "markdown",
   "metadata": {},
   "source": [
    "We define the functions for the pay later options by changing the payoff at termanl date T"
   ]
  },
  {
   "cell_type": "code",
   "execution_count": 66,
   "metadata": {},
   "outputs": [],
   "source": [
    "def TrinomialEurCallPayLater(C,S0,K,r,sigma,T,N): \n",
    "    deltaT = T/N\n",
    "    deltaX=sigma*deltaT**0.5;#rule of thumb\n",
    "    nu = r-(1/2)*sigma**2;\n",
    "    discount = np.exp(-r*deltaT);\n",
    "    p_u = (1/2)*((sigma**2*deltaT+nu**2*deltaT**2)/deltaX**2+nu*deltaT/deltaX);\n",
    "    p_m = (1-(sigma**2*deltaT+nu**2*deltaT**2)/deltaX**2);\n",
    "    p_d = (1/2)*((sigma**2*deltaT+nu**2*deltaT**2)/deltaX**2-nu*deltaT/deltaX);\n",
    "    pm=1-p_u-p_d\n",
    "    \n",
    "    # set up S values (at maturity)\n",
    "    Svals = np.zeros((2*N+1,1)); \n",
    "    Svals[0] = S0*np.exp(N*deltaX); \n",
    "    exp_dX = np.exp(-deltaX); \n",
    "    for j in range(1,2*N+1):\n",
    "        Svals[j] = exp_dX*Svals[j-1];\n",
    "        \n",
    "    #set up lattice and terminal values \n",
    "    Cvals = np.zeros((2*N+1,N+1))\n",
    "    for j in range(0,2*N+1): \n",
    "        if Svals[j]>K:\n",
    "            Cvals[j,N] = Svals[j]-K-C \n",
    "        else:\n",
    "            Cvals[j,N] = 0 \n",
    "\n",
    "    for j in range(N-1,-1,-1):\n",
    "        for i in range(N-j,N+j+1):\n",
    "            Cvals[i,j] =discount*(p_u*Cvals[i-1,j+1]+p_m*Cvals[i,j+1]+p_d*Cvals[i+1,j+1]);\n",
    "    \n",
    "    price = max(Cvals[N,0],0);\n",
    "    return price;\n",
    "\n",
    "\n",
    "def TrinomialEurPutPayLater(P,S0,K,r,sigma,T,N): \n",
    "    deltaT = T/N\n",
    "    deltaX=sigma*deltaT**0.5;#rule of thumb\n",
    "    nu = r-(1/2)*sigma**2;\n",
    "    discount = np.exp(-r*deltaT);\n",
    "    p_u = (1/2)*((sigma**2*deltaT+nu**2*deltaT**2)/deltaX**2+nu*deltaT/deltaX);\n",
    "    p_m = (1-(sigma**2*deltaT+nu**2*deltaT**2)/deltaX**2);\n",
    "    p_d = (1/2)*((sigma**2*deltaT+nu**2*deltaT**2)/deltaX**2-nu*deltaT/deltaX);\n",
    "    pm=1-p_u-p_d\n",
    "    \n",
    "    # set up S values (at maturity)\n",
    "    Svals = np.zeros((2*N+1,1));\n",
    "    Svals[0] = S0*np.exp(N*deltaX);\n",
    "    exp_dX = np.exp(-deltaX); \n",
    "    for j in range(1,2*N+1):\n",
    "        Svals[j] = exp_dX*Svals[j-1];  \n",
    "        \n",
    "    #set up lattice and terminal values \n",
    "    Pvals = np.zeros((2*N+1,N+1))\n",
    "    for j in range(0,2*N+1):\n",
    "        if Svals[j]<K:\n",
    "            Pvals[j,N] = K-Svals[j]-P\n",
    "        else:\n",
    "            Pvals[j,N] = 0\n",
    "\n",
    "    for j in range(N-1,-1,-1):\n",
    "        for i in range(N-j,N+j+1):\n",
    "            Pvals[i,j] =discount*(p_u*Pvals[i-1,j+1]+p_m*Pvals[i,j+1]+p_d*Pvals[i+1,j+1]);\n",
    "    \n",
    "    price = max(Pvals[N,0],0);\n",
    "    return price;\n"
   ]
  },
  {
   "cell_type": "markdown",
   "metadata": {},
   "source": [
    "We do some tests to look for starting values in the minimization"
   ]
  },
  {
   "cell_type": "code",
   "execution_count": 67,
   "metadata": {},
   "outputs": [
    {
     "data": {
      "text/plain": [
       "1.149981790319015"
      ]
     },
     "execution_count": 67,
     "metadata": {},
     "output_type": "execute_result"
    }
   ],
   "source": [
    "P = 3.6\n",
    "\n",
    "TrinomialEurPutPayLater(P,S0,K,r,sigma,T,N)"
   ]
  },
  {
   "cell_type": "code",
   "execution_count": 68,
   "metadata": {},
   "outputs": [
    {
     "data": {
      "text/plain": [
       "0"
      ]
     },
     "execution_count": 68,
     "metadata": {},
     "output_type": "execute_result"
    }
   ],
   "source": [
    "C = 3.6\n",
    "\n",
    "TrinomialEurCallPayLater(C,S0,K,r,sigma,T,N)"
   ]
  },
  {
   "cell_type": "code",
   "execution_count": 69,
   "metadata": {},
   "outputs": [],
   "source": [
    "def Minimize_trilattice_put(S0,K,r,sigma,T,N, startingval): \n",
    "    def TrillaticePutPrice_sig(P):\n",
    "        return (TrinomialEurPutPayLater(P,S0,K,r,sigma,T,N))\n",
    "    res = sp.optimize.minimize(TrillaticePutPrice_sig, startingval, method = 'Nelder-Mead')\n",
    "    return res"
   ]
  },
  {
   "cell_type": "code",
   "execution_count": 70,
   "metadata": {},
   "outputs": [
    {
     "data": {
      "text/plain": [
       " final_simplex: (array([[5.535     ],\n",
       "       [5.53505005]]), array([0., 0.]))\n",
       "           fun: 0.0\n",
       "       message: 'Optimization terminated successfully.'\n",
       "          nfev: 47\n",
       "           nit: 17\n",
       "        status: 0\n",
       "       success: True\n",
       "             x: array([5.535])"
      ]
     },
     "execution_count": 70,
     "metadata": {},
     "output_type": "execute_result"
    }
   ],
   "source": [
    "startingval = 4.1\n",
    "\n",
    "Minimize_trilattice_put(S0,K,r,sigma,T,N, startingval)"
   ]
  },
  {
   "cell_type": "code",
   "execution_count": 71,
   "metadata": {},
   "outputs": [
    {
     "data": {
      "text/plain": [
       "0"
      ]
     },
     "execution_count": 71,
     "metadata": {},
     "output_type": "execute_result"
    }
   ],
   "source": [
    "P = 5.535\n",
    "\n",
    "TrinomialEurPutPayLater(P,S0,K,r,sigma,T,N)"
   ]
  },
  {
   "cell_type": "code",
   "execution_count": 72,
   "metadata": {},
   "outputs": [],
   "source": [
    "def Minimize_trilattice_call(S0,K,r,sigma,T,N, startingval): \n",
    "    def TrillaticeCallPrice_sig(C):\n",
    "        return np.mean(TrinomialEurCallPayLater(C,S0,K,r,sigma,T,N))\n",
    "    res = sp.optimize.minimize(TrillaticeCallPrice_sig, startingval, method = 'Nelder-Mead')\n",
    "    return res"
   ]
  },
  {
   "cell_type": "code",
   "execution_count": 73,
   "metadata": {},
   "outputs": [
    {
     "data": {
      "text/plain": [
       " final_simplex: (array([[3.07175  ],\n",
       "       [3.0718125]]), array([0., 0.]))\n",
       "           fun: 0.0\n",
       "       message: 'Optimization terminated successfully.'\n",
       "          nfev: 69\n",
       "           nit: 28\n",
       "        status: 0\n",
       "       success: True\n",
       "             x: array([3.07175])"
      ]
     },
     "execution_count": 73,
     "metadata": {},
     "output_type": "execute_result"
    }
   ],
   "source": [
    "startingval = 0\n",
    "\n",
    "Minimize_trilattice_call(S0,K,r,sigma,T,N, startingval)"
   ]
  },
  {
   "cell_type": "code",
   "execution_count": 74,
   "metadata": {},
   "outputs": [
    {
     "data": {
      "text/plain": [
       "0"
      ]
     },
     "execution_count": 74,
     "metadata": {},
     "output_type": "execute_result"
    }
   ],
   "source": [
    "C = 3.072\n",
    "\n",
    "TrinomialEurCallPayLater(C,S0,K,r,sigma,T,N)"
   ]
  },
  {
   "cell_type": "markdown",
   "metadata": {},
   "source": [
    "We derive the true premium using the results found in Ex 2) using both methodologies to check for mistakes"
   ]
  },
  {
   "cell_type": "code",
   "execution_count": 75,
   "metadata": {},
   "outputs": [],
   "source": [
    "def PayLaterPutPremium(sigma,K,tau,S,r):\n",
    "    d1 = (np.log(S/K)+(r+(1/2)*sigma**2)*tau)/(sigma*np.sqrt(tau));\n",
    "    d2 = d1-sigma*np.sqrt(tau);\n",
    "    c = S*sps.norm.cdf(d1)-K*np.exp(-r*tau)*sps.norm.cdf(d2);\n",
    "    p = c+K*np.exp(-r*tau)-S;\n",
    "    \n",
    "    premium = np.exp(r*tau)*p/sps.norm.cdf(-d2)\n",
    "    return premium"
   ]
  },
  {
   "cell_type": "code",
   "execution_count": 76,
   "metadata": {},
   "outputs": [
    {
     "data": {
      "text/plain": [
       "4.785759700971706"
      ]
     },
     "execution_count": 76,
     "metadata": {},
     "output_type": "execute_result"
    }
   ],
   "source": [
    "PayLaterPutPremium(sigma,K,T,S0,r)"
   ]
  },
  {
   "cell_type": "code",
   "execution_count": 77,
   "metadata": {},
   "outputs": [],
   "source": [
    "def BSEuDigitalPut(sigma,K,tau,S,r):\n",
    "    d1 = (np.log(S/K)+(r+(1/2)*sigma**2)*tau)/(sigma*np.sqrt(tau));\n",
    "    d2 = d1-sigma*np.sqrt(tau);\n",
    "    p = np.exp(-r*tau)*sps.norm.cdf(-d2);\n",
    "    return (p)\n",
    "\n",
    "def BSEuPayLaterPut(S0,K,r,sigma,T):\n",
    "    res = BSputPrice(sigma,K,T,S0,r) / BSEuDigitalPut(sigma,K,T,S0,r)\n",
    "    return res"
   ]
  },
  {
   "cell_type": "code",
   "execution_count": 78,
   "metadata": {},
   "outputs": [
    {
     "data": {
      "text/plain": [
       "4.785759700971705"
      ]
     },
     "execution_count": 78,
     "metadata": {},
     "output_type": "execute_result"
    }
   ],
   "source": [
    "BSEuPayLaterPut(S0,K,r,sigma,T)"
   ]
  },
  {
   "cell_type": "code",
   "execution_count": 79,
   "metadata": {},
   "outputs": [],
   "source": [
    "def PayLaterCallPremium(sigma,K,tau,S,r):\n",
    "    d1 = (np.log(S/K)+(r+(1/2)*sigma**2)*tau)/(sigma*np.sqrt(tau));\n",
    "    d2 = d1-sigma*np.sqrt(tau);\n",
    "    c = S*sps.norm.cdf(d1)-K*np.exp(-r*tau)*sps.norm.cdf(d2);\n",
    "    \n",
    "    premium = np.exp(r*tau)*c/sps.norm.cdf(d2)\n",
    "    return premium"
   ]
  },
  {
   "cell_type": "code",
   "execution_count": 80,
   "metadata": {},
   "outputs": [
    {
     "data": {
      "text/plain": [
       "3.1420550224325945"
      ]
     },
     "execution_count": 80,
     "metadata": {},
     "output_type": "execute_result"
    }
   ],
   "source": [
    "PayLaterCallPremium(sigma,K,T,S0,r)"
   ]
  },
  {
   "cell_type": "code",
   "execution_count": 81,
   "metadata": {},
   "outputs": [],
   "source": [
    "def BSEuDigitalCall(sigma,K,tau,S,r):\n",
    "    d1 = (np.log(S/K)+(r+(1/2)*sigma**2)*tau)/(sigma*np.sqrt(tau));\n",
    "    d2 = d1-sigma*np.sqrt(tau);\n",
    "    c = np.exp(-r*tau)*sps.norm.cdf(d2);\n",
    "    return (c)\n",
    "\n",
    "def BSEuPayLaterCall(S0,K,r,sigma,T):\n",
    "    res = BScallPrice(sigma,K,T,S0,r) / BSEuDigitalCall(sigma,K,T,S0,r)\n",
    "    return res"
   ]
  },
  {
   "cell_type": "code",
   "execution_count": 82,
   "metadata": {},
   "outputs": [
    {
     "data": {
      "text/plain": [
       "3.1420550224325945"
      ]
     },
     "execution_count": 82,
     "metadata": {},
     "output_type": "execute_result"
    }
   ],
   "source": [
    "BSEuPayLaterCall(S0,K,r,sigma,T)"
   ]
  },
  {
   "cell_type": "markdown",
   "metadata": {},
   "source": [
    "We can see that prices are similar to the trilattice models, and surely will converge increasing N"
   ]
  },
  {
   "cell_type": "markdown",
   "metadata": {},
   "source": [
    "3.d)"
   ]
  },
  {
   "cell_type": "markdown",
   "metadata": {},
   "source": [
    "Trinomial America put"
   ]
  },
  {
   "cell_type": "code",
   "execution_count": 83,
   "metadata": {},
   "outputs": [],
   "source": [
    "S0 = 15\n",
    "K = 12\n",
    "r = 0.07\n",
    "sigma = 0.3\n",
    "T = 0.75\n",
    "N = 12"
   ]
  },
  {
   "cell_type": "markdown",
   "metadata": {},
   "source": [
    "We define the Trinomial lattice for the American Put"
   ]
  },
  {
   "cell_type": "code",
   "execution_count": 84,
   "metadata": {},
   "outputs": [],
   "source": [
    "def TrinomialAmPut(S0,K,r,sigma,T,N): \n",
    "    deltaT = T/N\n",
    "    deltaX=sigma*deltaT**0.5;#rule of thumb\n",
    "    nu = r-(1/2)*sigma**2;\n",
    "    discount = np.exp(-r*deltaT);\n",
    "    p_u = (1/2)*((sigma**2*deltaT+nu**2*deltaT**2)/deltaX**2+nu*deltaT/deltaX);\n",
    "    p_m = (1-(sigma**2*deltaT+nu**2*deltaT**2)/deltaX**2);\n",
    "    p_d = (1/2)*((sigma**2*deltaT+nu**2*deltaT**2)/deltaX**2-nu*deltaT/deltaX);\n",
    "    pm=1-p_u-p_d\n",
    "    # set up S values (at maturity)\n",
    "    Svals = np.zeros((2*N+1,1));\n",
    "    Svals[0] = S0*np.exp(N*deltaX);\n",
    "    exp_dX = np.exp(-deltaX); \n",
    "    for j in range(1,2*N+1):\n",
    "        Svals[j] = exp_dX*Svals[j-1];     \n",
    "    #set up lattice and terminal values \n",
    "    Pvals = np.zeros((2*N+1,N+1))\n",
    "      \n",
    "    for j in range(0,2*N+1):\n",
    "        Pvals[j,N] = max(K-Svals[j],0);\n",
    "\n",
    "    for j in range(N-1,-1,-1):\n",
    "        for i in range(N-j,N+j+1):\n",
    "            hold= discount*(p_u*Pvals[i-1,j+1]+p_m*Pvals[i,j+1]+p_d*Pvals[i+1,j+1])\n",
    "            Pvals[i,j] = max(K-Svals[j],hold);\n",
    "    price = Pvals[N,0];\n",
    "    return price;"
   ]
  },
  {
   "cell_type": "code",
   "execution_count": 85,
   "metadata": {},
   "outputs": [
    {
     "data": {
      "text/plain": [
       "0.26372671108558327"
      ]
     },
     "execution_count": 85,
     "metadata": {},
     "output_type": "execute_result"
    }
   ],
   "source": [
    "TrinomialAmPut(S0,K,r,sigma,T,N)"
   ]
  },
  {
   "cell_type": "markdown",
   "metadata": {},
   "source": [
    "We define the function for the pay later Put American option"
   ]
  },
  {
   "cell_type": "code",
   "execution_count": 86,
   "metadata": {},
   "outputs": [],
   "source": [
    "def LatticeAmPutPayLater(P,S0,K,r,sigma,T,N): \n",
    "    deltaT = T/N\n",
    "    deltaX=sigma*deltaT**0.5;#rule of thumb\n",
    "    nu = r-(1/2)*sigma**2;\n",
    "    discount = np.exp(-r*deltaT);\n",
    "    p_u = (1/2)*((sigma**2*deltaT+nu**2*deltaT**2)/deltaX**2+nu*deltaT/deltaX);\n",
    "    p_m = (1-(sigma**2*deltaT+nu**2*deltaT**2)/deltaX**2);\n",
    "    p_d = (1/2)*((sigma**2*deltaT+nu**2*deltaT**2)/deltaX**2-nu*deltaT/deltaX);\n",
    "    pm=1-p_u-p_d\n",
    "    # set up S values (at maturity)\n",
    "    Svals = np.zeros((2*N+1,1));\n",
    "    Svals[0] = S0*np.exp(N*deltaX);\n",
    "    exp_dX = np.exp(-deltaX); \n",
    "    for j in range(1,2*N+1):\n",
    "        Svals[j] = exp_dX*Svals[j-1];     \n",
    "    #set up lattice and terminal values \n",
    "    Pvals = np.zeros((2*N+1,N+1))\n",
    "      \n",
    "    for j in range(0,2*N+1):\n",
    "        if Svals[j]<K:\n",
    "            Pvals[j,N] = K-Svals[j]-P\n",
    "        else:\n",
    "            Pvals[j,N] = 0\n",
    "\n",
    "    for j in range(N-1,-1,-1):\n",
    "        for i in range(N-j,N+j+1):\n",
    "            hold= discount*(p_u*Pvals[i-1,j+1]+p_m*Pvals[i,j+1]+p_d*Pvals[i+1,j+1])\n",
    "            Pvals[i,j] = max(K-Svals[j]-P,hold);\n",
    "    price =  max(Pvals[N,0],0);\n",
    "    return price;"
   ]
  },
  {
   "cell_type": "code",
   "execution_count": 87,
   "metadata": {},
   "outputs": [
    {
     "data": {
      "text/plain": [
       "0.2203195944689663"
      ]
     },
     "execution_count": 87,
     "metadata": {},
     "output_type": "execute_result"
    }
   ],
   "source": [
    "P = 0.263\n",
    "LatticeAmPutPayLater(P,S0,K,r,sigma,T,N)"
   ]
  },
  {
   "cell_type": "markdown",
   "metadata": {},
   "source": [
    "Minimizing function to find P such that the American option price is 0"
   ]
  },
  {
   "cell_type": "code",
   "execution_count": 88,
   "metadata": {},
   "outputs": [],
   "source": [
    "def Minimize_trilattice_put_AM(S0,K,r,sigma,T,N, startingval): \n",
    "    def TrillaticePutPrice_sig(P):\n",
    "        return (LatticeAmPutPayLater(P,S0,K,r,sigma,T,N))\n",
    "    res = sp.optimize.minimize(TrillaticePutPrice_sig, startingval, method = 'Nelder-Mead')\n",
    "    return res"
   ]
  },
  {
   "cell_type": "code",
   "execution_count": 89,
   "metadata": {},
   "outputs": [
    {
     "data": {
      "text/plain": [
       " final_simplex: (array([[1.705     ],\n",
       "       [1.70505371]]), array([0., 0.]))\n",
       "           fun: 0.0\n",
       "       message: 'Optimization terminated successfully.'\n",
       "          nfev: 43\n",
       "           nit: 16\n",
       "        status: 0\n",
       "       success: True\n",
       "             x: array([1.705])"
      ]
     },
     "execution_count": 89,
     "metadata": {},
     "output_type": "execute_result"
    }
   ],
   "source": [
    "startingval = 1.1\n",
    "\n",
    "Minimize_trilattice_put_AM(S0,K,r,sigma,T,N, startingval)"
   ]
  },
  {
   "cell_type": "code",
   "execution_count": 90,
   "metadata": {},
   "outputs": [
    {
     "data": {
      "text/plain": [
       "0"
      ]
     },
     "execution_count": 90,
     "metadata": {},
     "output_type": "execute_result"
    }
   ],
   "source": [
    "P = 1.705\n",
    "LatticeAmPutPayLater(P,S0,K,r,sigma,T,N)"
   ]
  },
  {
   "cell_type": "markdown",
   "metadata": {},
   "source": [
    "For this approximation the values are still distant"
   ]
  },
  {
   "cell_type": "markdown",
   "metadata": {},
   "source": [
    "Ex 4)"
   ]
  },
  {
   "cell_type": "markdown",
   "metadata": {},
   "source": [
    "We define all the functions needed for the Heston model, as well as the Heston model for a pay later option with the B-S approximation for the digital option"
   ]
  },
  {
   "cell_type": "code",
   "execution_count": 91,
   "metadata": {},
   "outputs": [],
   "source": [
    "def Heston_f(u, params, S, tau, r, v0, type):   \n",
    "    kappa = params[0];\n",
    "    vbar = params[1];\n",
    "    eta  = params[2];\n",
    "    rho  = params[3];\n",
    "    if type == 1:\n",
    "        uu = 0.5;\n",
    "        bb = kappa - rho*eta;\n",
    "    else:\n",
    "        uu = -0.5;\n",
    "        bb = kappa;\n",
    "        \n",
    "    aa = kappa*vbar;\n",
    "    dd = np.sqrt((1j*u*rho*eta - bb)**2 - eta**2*(1j*u*2*uu - u**2));\n",
    "    gg = (bb - rho*eta*u*1j + dd)/(bb - rho*eta*u*1j - dd);\n",
    "    \n",
    "    CC = r*u*1j*tau + aa/eta**2*((bb - rho*eta*u*1j + dd)*tau - 2*np.log((1-gg*np.exp(dd*tau))/(1-gg)));\n",
    "    DD = (bb - rho*eta*u*1j + dd)/eta**2*((1-np.exp(dd*tau))/(1-gg*np.exp(dd*tau)));\n",
    "    \n",
    "    return np.exp(CC + DD*v0 + 1j*u*np.log(S));\n",
    "\n",
    "def Heston_P_integrand(u, params, S, K, tau, r, v0, type):\n",
    "    return  np.real(np.exp(-1j*u*np.log(K))*Heston_f(u, params, S, tau, r, v0, type)/(1j*u));\n",
    "\n",
    "def Heston_P(params, S, K, tau, r, v0, type):\n",
    "    intgral=sp.integrate.quad(Heston_P_integrand, 0, 500, args=(params, S, K, tau, r, v0, type));\n",
    "    return 0.5 + 1/np.pi *intgral[0]\n",
    "\n",
    "def Heston_Call(params, S, K, tau, r, v0):\n",
    "    call = S*Heston_P(params, S, K, tau, r, v0, 1) - K*np.exp(-r*tau)*Heston_P(params, S, K, tau, r, v0, 2);\n",
    "    return call\n",
    "\n",
    "def Heston_Paylater_Call(params, S, K, tau, r, v0):\n",
    "    res = Heston_Call(params, S, K, tau, r, v0) / BSEuDigitalCall(sigma,K,T,S0,r)\n",
    "    return res "
   ]
  },
  {
   "cell_type": "code",
   "execution_count": 92,
   "metadata": {},
   "outputs": [],
   "source": [
    "S0=15\n",
    "sigma=0.3\n",
    "r=0.07\n",
    "T=9/12\n",
    "N=9\n",
    "\n",
    "kappa=2\n",
    "vbar=sigma**2\n",
    "eta=0.25\n",
    "rho=0\n",
    "\n",
    "params=(kappa,vbar,eta,rho)\n"
   ]
  },
  {
   "cell_type": "markdown",
   "metadata": {},
   "source": [
    "We create a vector of values for K using linspace"
   ]
  },
  {
   "cell_type": "code",
   "execution_count": 93,
   "metadata": {},
   "outputs": [],
   "source": [
    "K = np.linspace(2,28,200)"
   ]
  },
  {
   "cell_type": "markdown",
   "metadata": {},
   "source": [
    "For different values of rho we compute the difference between Heston and B-S. We can see that when rho is negative, the B-S model overprices the option w.r.t to the Heston model, whereas the opposite happens for rho >= 0. Furthermore it is worth noticing that when K is very low, thus the option is deep ITM then the difference is negligible"
   ]
  },
  {
   "cell_type": "code",
   "execution_count": 94,
   "metadata": {},
   "outputs": [
    {
     "data": {
      "image/png": "[encoded data removed]",
      "text/plain": [
       "<Figure size 432x288 with 1 Axes>"
      ]
     },
     "metadata": {
      "needs_background": "light"
     },
     "output_type": "display_data"
    },
    {
     "data": {
      "image/png": "[encoded data removed]",
      "text/plain": [
       "<Figure size 432x288 with 1 Axes>"
      ]
     },
     "metadata": {
      "needs_background": "light"
     },
     "output_type": "display_data"
    },
    {
     "data": {
      "image/png": "[encoded data removed]",
      "text/plain": [
       "<Figure size 432x288 with 1 Axes>"
      ]
     },
     "metadata": {
      "needs_background": "light"
     },
     "output_type": "display_data"
    }
   ],
   "source": [
    "for i in (-0.5,0,0.5):\n",
    "    rho = i\n",
    "    params=(kappa,vbar,eta,rho)\n",
    "    diff = []\n",
    "    for j in K:\n",
    "        res = Heston_Paylater_Call(params, S0, j, T, r, vbar) - PayLaterCallPremium(sigma,j,T,S0,r)\n",
    "        diff.append(res)\n",
    "    \n",
    "    plt.plot(K,diff)\n",
    "    plt.title('Difference between Heston and BS with ρ = ' + str(i))\n",
    "    plt.xlabel('Strike')\n",
    "    plt.xticks(rotation=90)\n",
    "    plt.ylabel('Difference')\n",
    "    plt.show()"
   ]
  },
  {
   "cell_type": "markdown",
   "metadata": {},
   "source": [
    "We do the same analysis for different values of eta, in this case the Heston model consistently overprice the option w.r.t the B-S model, except for values really close to S0, where the B-S price is higher"
   ]
  },
  {
   "cell_type": "code",
   "execution_count": 95,
   "metadata": {},
   "outputs": [],
   "source": [
    "rho=0"
   ]
  },
  {
   "cell_type": "code",
   "execution_count": 96,
   "metadata": {},
   "outputs": [
    {
     "data": {
      "image/png": "[encoded data removed]",
      "text/plain": [
       "<Figure size 432x288 with 1 Axes>"
      ]
     },
     "metadata": {
      "needs_background": "light"
     },
     "output_type": "display_data"
    },
    {
     "data": {
      "image/png": "[encoded data removed]",
      "text/plain": [
       "<Figure size 432x288 with 1 Axes>"
      ]
     },
     "metadata": {
      "needs_background": "light"
     },
     "output_type": "display_data"
    },
    {
     "data": {
      "image/png": "[encoded data removed]",
      "text/plain": [
       "<Figure size 432x288 with 1 Axes>"
      ]
     },
     "metadata": {
      "needs_background": "light"
     },
     "output_type": "display_data"
    }
   ],
   "source": [
    "for i in (0.15,0.25,0.35):\n",
    "    eta = i\n",
    "    params=(kappa,vbar,eta,rho)\n",
    "    diff = []\n",
    "    for j in K:\n",
    "        res =  Heston_Paylater_Call(params, S0, j, T, r, vbar) - PayLaterCallPremium(sigma,j,T,S0,r)\n",
    "        diff.append(res)\n",
    "    \n",
    "    plt.plot(K,diff)\n",
    "    plt.title('Difference between Heston and BS with η = ' + str(i))\n",
    "    plt.xlabel('Strike')\n",
    "    plt.xticks(rotation=90)\n",
    "    plt.ylabel('Difference')\n",
    "    plt.show()"
   ]
  },
  {
   "cell_type": "code",
   "execution_count": null,
   "metadata": {},
   "outputs": [],
   "source": []
  }
 ],
 "metadata": {
  "kernelspec": {
   "display_name": "Python 3",
   "language": "python",
   "name": "python3"
  },
  "language_info": {
   "codemirror_mode": {
    "name": "ipython",
    "version": 3
   },
   "file_extension": ".py",
   "mimetype": "text/x-python",
   "name": "python",
   "nbconvert_exporter": "python",
   "pygments_lexer": "ipython3",
   "version": "3.8.3"
  }
 },
 "nbformat": 4,
 "nbformat_minor": 4
}
